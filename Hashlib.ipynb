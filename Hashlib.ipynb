{
  "nbformat": 4,
  "nbformat_minor": 0,
  "metadata": {
    "colab": {
      "name": "Hashlib.ipynb",
      "provenance": []
    },
    "kernelspec": {
      "name": "python3",
      "display_name": "Python 3"
    },
    "language_info": {
      "name": "python"
    }
  },
  "cells": [
    {
      "cell_type": "code",
      "metadata": {
        "colab": {
          "base_uri": "https://localhost:8080/",
          "height": 882
        },
        "id": "N17iEDDEWvx8",
        "outputId": "45dda404-31f8-472c-ab18-b922cf800542"
      },
      "source": [
        "import hashlib,sys\n",
        "def hash_func():\n",
        "    def md5():\n",
        "        print(\"\\n\")\n",
        "        md5text = input(\"enter the text to convert it into md5: \")\n",
        "        hash_object_md5 = hashlib.md5(str(md5text).encode('utf-8'))\n",
        "        print(\"\\n\")\n",
        "        print('Hash for the text in md5 is :  ', hash_object_md5.hexdigest())\n",
        "        print(\"\\n\")\n",
        "    def sha512():\n",
        "        print(\"\\n\")\n",
        "        sha512text = input(\"enter the text to convert it into sha512: \")\n",
        "        hash_object_sha512 = hashlib.sha512(str(sha512text).encode('utf-8'))\n",
        "        print(\"\\n\")\n",
        "        print('Hash for the text in sha512 is :  ', hash_object_sha512.hexdigest())\n",
        "        print(\"\\n\")\n",
        "    def sha256():\n",
        "        print(\"\\n\")\n",
        "        sha256text = input(\"enter the text to convert it into sha256: \")\n",
        "        hash_object_sha256 = hashlib.sha256(str(sha256text).encode('utf-8'))\n",
        "        print(\"\\n\")\n",
        "        print('Hash for the text in sha256 is :  ', hash_object_sha256.hexdigest())\n",
        "        print(\"\\n\")\n",
        "    def sha3_256():\n",
        "        print(\"\\n\")\n",
        "        sha3256text = input(\"enter the text to convert it into sha3_256: \")\n",
        "        hash_object_sha3256 = hashlib.sha3_256(str(sha3256text).encode('utf-8'))\n",
        "        print(\"\\n\")\n",
        "        print('Hash for the text in sha3_256 is :  ', hash_object_sha3256.hexdigest())\n",
        "        print(\"\\n\")\n",
        "    def sha3_512():\n",
        "        print(\"\\n\")\n",
        "        sha3512text = input(\"enter the text to convert it into sha3_512: \")\n",
        "        hash_object_sha3512 = hashlib.sha3_512(str(sha3512text).encode('utf-8'))\n",
        "        print(\"\\n\")\n",
        "        print('Hash for the text in sha3_512 is :  ', hash_object_sha3512.hexdigest())\n",
        "        print(\"\\n\")\n",
        "    menu = str(input(\"Choose the number which you want to execute  1.md5  2.sha512  3.sha256  4.sha3_256  5.sha3_512 : \"))\n",
        "    if menu == \"1\":\n",
        "      md5()\n",
        "    elif menu == \"2\":\n",
        "      sha512()\n",
        "    elif menu == \"3\":\n",
        "      sha256()\n",
        "    elif menu == \"4\":\n",
        "      sha3_256()\n",
        "    elif menu == \"5\":\n",
        "      sha3_512()2\n",
        "    else: \n",
        "      sys.exit(0)\n",
        "    runagain = str(input(\"Do you want to use this again (type 1 or 0): \"))\n",
        "    print(\"\\n\")\n",
        "    while runagain == \"1\":\n",
        "      hash_func()\n",
        "    else:\n",
        "      print(\"\\n\")\n",
        "      print(\"closing the programme\")\n",
        "      sys.exit(0)\n",
        "hash_func()"
      ],
      
